{
 "cells": [
  {
   "cell_type": "code",
   "execution_count": 1,
   "id": "3f11833f",
   "metadata": {},
   "outputs": [
    {
     "name": "stderr",
     "output_type": "stream",
     "text": [
      "WARNING: Ignoring invalid distribution -atplotlib (c:\\users\\ankit rai\\appdata\\local\\programs\\python\\python310\\lib\\site-packages)\n",
      "WARNING: Ignoring invalid distribution -atplotlib (c:\\users\\ankit rai\\appdata\\local\\programs\\python\\python310\\lib\\site-packages)\n",
      "WARNING: Ignoring invalid distribution -atplotlib (c:\\users\\ankit rai\\appdata\\local\\programs\\python\\python310\\lib\\site-packages)\n",
      "ERROR: pip's dependency resolver does not currently take into account all the packages that are installed. This behaviour is the source of the following dependency conflicts.\n",
      "llama-index-indices-managed-llama-cloud 0.3.0 requires llama-cloud>=0.0.11, which is not installed.\n",
      "llama-index-readers-llama-parse 0.3.0 requires llama-parse>=0.5.0, which is not installed.\n",
      "requests-html 0.10.0 requires fake-useragent, which is not installed.\n",
      "tensorflow-intel 2.17.0 requires protobuf!=4.21.0,!=4.21.1,!=4.21.2,!=4.21.3,!=4.21.4,!=4.21.5,<5.0.0dev,>=3.20.3, but you have protobuf 5.28.1 which is incompatible.\n",
      "WARNING: Ignoring invalid distribution -atplotlib (c:\\users\\ankit rai\\appdata\\local\\programs\\python\\python310\\lib\\site-packages)\n",
      "WARNING: Ignoring invalid distribution -atplotlib (c:\\users\\ankit rai\\appdata\\local\\programs\\python\\python310\\lib\\site-packages)\n",
      "WARNING: Ignoring invalid distribution -atplotlib (c:\\users\\ankit rai\\appdata\\local\\programs\\python\\python310\\lib\\site-packages)\n",
      "WARNING: Ignoring invalid distribution -atplotlib (c:\\users\\ankit rai\\appdata\\local\\programs\\python\\python310\\lib\\site-packages)\n",
      "WARNING: Ignoring invalid distribution -atplotlib (c:\\users\\ankit rai\\appdata\\local\\programs\\python\\python310\\lib\\site-packages)\n",
      "WARNING: Ignoring invalid distribution -atplotlib (c:\\users\\ankit rai\\appdata\\local\\programs\\python\\python310\\lib\\site-packages)\n"
     ]
    }
   ],
   "source": [
    "!pip -q install pydantic-ai\n",
    "!pip -q install duckduckgo-search\n",
    "!pip -q install tavily-python"
   ]
  },
  {
   "cell_type": "code",
   "execution_count": 5,
   "id": "0aabe5b9",
   "metadata": {},
   "outputs": [
    {
     "name": "stdout",
     "output_type": "stream",
     "text": [
      "0.0.10\n"
     ]
    }
   ],
   "source": [
    "import pydantic_ai\n",
    "print(pydantic_ai.__version__)"
   ]
  },
  {
   "cell_type": "code",
   "execution_count": 6,
   "id": "106fd679",
   "metadata": {},
   "outputs": [
    {
     "name": "stderr",
     "output_type": "stream",
     "text": [
      "WARNING: Ignoring invalid distribution -atplotlib (c:\\users\\ankit rai\\appdata\\local\\programs\\python\\python310\\lib\\site-packages)\n",
      "WARNING: Ignoring invalid distribution -atplotlib (c:\\users\\ankit rai\\appdata\\local\\programs\\python\\python310\\lib\\site-packages)\n",
      "WARNING: Ignoring invalid distribution -atplotlib (c:\\users\\ankit rai\\appdata\\local\\programs\\python\\python310\\lib\\site-packages)\n",
      "WARNING: Ignoring invalid distribution -atplotlib (c:\\users\\ankit rai\\appdata\\local\\programs\\python\\python310\\lib\\site-packages)\n",
      "WARNING: Ignoring invalid distribution -atplotlib (c:\\users\\ankit rai\\appdata\\local\\programs\\python\\python310\\lib\\site-packages)\n",
      "WARNING: Ignoring invalid distribution -atplotlib (c:\\users\\ankit rai\\appdata\\local\\programs\\python\\python310\\lib\\site-packages)\n"
     ]
    }
   ],
   "source": [
    "!pip -q install nest-asyncio\n",
    "!pip -q install devtools"
   ]
  },
  {
   "cell_type": "code",
   "execution_count": 11,
   "id": "080b8f5b",
   "metadata": {},
   "outputs": [
    {
     "name": "stdout",
     "output_type": "stream",
     "text": [
      "[{'title': '25 Best Footballers in the World (2024) - GiveMeSport', 'href': 'https://www.givemesport.com/best-football-players-in-the-world/', 'body': 'Football is an ever-changing meritocracy and, therefore, deciding the best player in the world at any precise moment is a difficult challenge. That title could theoretically change hands after any ...'}, {'title': 'RANKED! The 100 best players in the world right now', 'href': 'https://www.fourfourtwo.com/features/ranked-the-100-best-players-in-the-world-right-now', 'body': 'The best players in the world right now: 100-81 The best players in the world right now: 80-61 The best players in the world right now: 60-41 The best players in the world right now: 40-21 The ...'}, {'title': 'Ranked! The 100 best football players in the world: 2023', 'href': 'https://www.fourfourtwo.com/features/ranked-the-100-best-football-players-in-the-world-2023', 'body': 'The 100 best football players in the world: 100-81 The 100 best football players in the world: 80-61 The 100 best football players in the world: 60-41 The 100 best football players in the world ...'}, {'title': 'The best players in the world - ranked - 90min', 'href': 'https://www.90min.com/posts/best-players-in-the-world', 'body': 'Some would argue that Valverde is the best out-and-out central midfielder in world football despite his slow start to the 2024/25 campaign. The Uruguay international has learned from the best in ...'}, {'title': 'The Top Soccer Players In The World Right Now, Ranked', 'href': 'https://www.ranker.com/list/best-current-soccer-players/ranker-soccer', 'body': \"The world's passion for soccer is unmatched, and knowing who the top soccer players in the world right now are is a key part of being a true fan. These athletes are more than just players; they are icons whose skills and personalities light up stadiums and screens alike.\"}, {'title': 'The 100+ Best Soccer Players In The World In 2024, Ranked', 'href': 'https://www.ranker.com/list/best-soccer-players-in-the-world/david-de-la-riva', 'body': 'A list of the top 100+ soccer players in the world in 2024, based on votes from fans and experts. See who made the cut, who is the best striker, midfielder, defender, and more.'}, {'title': 'Best football players in the world ranked 2024 - Radio Times', 'href': 'https://www.radiotimes.com/tv/sport/football/best-football-players-world/', 'body': 'A comprehensive list of the 10 best football players in the world in 2024, based on achievements, stats and current form. Find out who tops the chart and who has fallen out of favour, from Messi to Saka.'}, {'title': \"The Best FIFA Men's Player - Wikipedia\", 'href': \"https://en.wikipedia.org/wiki/The_Best_FIFA_Men's_Player\", 'body': \"The Best FIFA Men's Player is an annual award presented by FIFA since 2016 to honour the best football player of the year. Lionel Messi has won the most awards (3), followed by Cristiano Ronaldo (2) and Robert Lewandowski (2).\"}, {'title': '30 Greatest Football Players Of All Time (2024) - GiveMeSport', 'href': 'https://www.givemesport.com/top-football-players-of-all-time-named/', 'body': 'An elusive list awaits you with some of the greatest players to ever play the game, across Europe, and the world. The list includes iconic players such as Ronaldo (R9), Zidane, Cruyff, Beckenbauer ...'}, {'title': 'Ranked! The 100 best football players in the world: 2023 - FourFourTwo', 'href': 'https://www.fourfourtwo.com/features/ranked-the-100-best-football-players-in-the-world-2023/3', 'body': 'A list of the top 100 footballers in the world as of 2023, based on their performances, achievements and potential. See who made the cut, from Rodrygo to Kolo-Muani, and who missed out, from Messi to Ronaldo.'}]\n"
     ]
    }
   ],
   "source": [
    "from duckduckgo_search import DDGS, AsyncDDGS\n",
    "results = DDGS().text(\"Best football player in the world\",max_results=10)\n",
    "print(results)"
   ]
  },
  {
   "cell_type": "code",
   "execution_count": 3,
   "id": "5b1b9a37",
   "metadata": {},
   "outputs": [
    {
     "name": "stderr",
     "output_type": "stream",
     "text": [
      "WARNING: Ignoring invalid distribution -atplotlib (c:\\users\\ankit rai\\appdata\\local\\programs\\python\\python310\\lib\\site-packages)\n",
      "ERROR: Could not find a version that satisfies the requirement fireducks (from versions: none)\n",
      "ERROR: No matching distribution found for fireducks\n"
     ]
    }
   ],
   "source": [
    "!pip install fireducks"
   ]
  },
  {
   "cell_type": "code",
   "execution_count": 4,
   "id": "90441a58",
   "metadata": {},
   "outputs": [
    {
     "name": "stderr",
     "output_type": "stream",
     "text": [
      "WARNING: Ignoring invalid distribution -atplotlib (c:\\users\\ankit rai\\appdata\\local\\programs\\python\\python310\\lib\\site-packages)\n",
      "ERROR: Could not find a version that satisfies the requirement fireducks (from versions: none)\n",
      "ERROR: No matching distribution found for fireducks\n"
     ]
    }
   ],
   "source": [
    "!pip install fireducks\n"
   ]
  },
  {
   "cell_type": "code",
   "execution_count": 6,
   "id": "cbf49a19",
   "metadata": {},
   "outputs": [],
   "source": [
    "import pandas as pd\n"
   ]
  },
  {
   "cell_type": "code",
   "execution_count": 12,
   "id": "12ed7fff",
   "metadata": {},
   "outputs": [
    {
     "data": {
      "text/html": [
       "<div>\n",
       "<style scoped>\n",
       "    .dataframe tbody tr th:only-of-type {\n",
       "        vertical-align: middle;\n",
       "    }\n",
       "\n",
       "    .dataframe tbody tr th {\n",
       "        vertical-align: top;\n",
       "    }\n",
       "\n",
       "    .dataframe thead th {\n",
       "        text-align: right;\n",
       "    }\n",
       "</style>\n",
       "<table border=\"1\" class=\"dataframe\">\n",
       "  <thead>\n",
       "    <tr style=\"text-align: right;\">\n",
       "      <th></th>\n",
       "      <th>title</th>\n",
       "      <th>href</th>\n",
       "      <th>body</th>\n",
       "    </tr>\n",
       "  </thead>\n",
       "  <tbody>\n",
       "    <tr>\n",
       "      <th>0</th>\n",
       "      <td>25 Best Footballers in the World (2024) - Give...</td>\n",
       "      <td>https://www.givemesport.com/best-football-play...</td>\n",
       "      <td>Football is an ever-changing meritocracy and, ...</td>\n",
       "    </tr>\n",
       "    <tr>\n",
       "      <th>1</th>\n",
       "      <td>RANKED! The 100 best players in the world righ...</td>\n",
       "      <td>https://www.fourfourtwo.com/features/ranked-th...</td>\n",
       "      <td>The best players in the world right now: 100-8...</td>\n",
       "    </tr>\n",
       "    <tr>\n",
       "      <th>2</th>\n",
       "      <td>Ranked! The 100 best football players in the w...</td>\n",
       "      <td>https://www.fourfourtwo.com/features/ranked-th...</td>\n",
       "      <td>The 100 best football players in the world: 10...</td>\n",
       "    </tr>\n",
       "    <tr>\n",
       "      <th>3</th>\n",
       "      <td>The best players in the world - ranked - 90min</td>\n",
       "      <td>https://www.90min.com/posts/best-players-in-th...</td>\n",
       "      <td>Some would argue that Valverde is the best out...</td>\n",
       "    </tr>\n",
       "    <tr>\n",
       "      <th>4</th>\n",
       "      <td>The Top Soccer Players In The World Right Now,...</td>\n",
       "      <td>https://www.ranker.com/list/best-current-socce...</td>\n",
       "      <td>The world's passion for soccer is unmatched, a...</td>\n",
       "    </tr>\n",
       "    <tr>\n",
       "      <th>5</th>\n",
       "      <td>The 100+ Best Soccer Players In The World In 2...</td>\n",
       "      <td>https://www.ranker.com/list/best-soccer-player...</td>\n",
       "      <td>A list of the top 100+ soccer players in the w...</td>\n",
       "    </tr>\n",
       "    <tr>\n",
       "      <th>6</th>\n",
       "      <td>Best football players in the world ranked 2024...</td>\n",
       "      <td>https://www.radiotimes.com/tv/sport/football/b...</td>\n",
       "      <td>A comprehensive list of the 10 best football p...</td>\n",
       "    </tr>\n",
       "    <tr>\n",
       "      <th>7</th>\n",
       "      <td>The Best FIFA Men's Player - Wikipedia</td>\n",
       "      <td>https://en.wikipedia.org/wiki/The_Best_FIFA_Me...</td>\n",
       "      <td>The Best FIFA Men's Player is an annual award ...</td>\n",
       "    </tr>\n",
       "    <tr>\n",
       "      <th>8</th>\n",
       "      <td>30 Greatest Football Players Of All Time (2024...</td>\n",
       "      <td>https://www.givemesport.com/top-football-playe...</td>\n",
       "      <td>An elusive list awaits you with some of the gr...</td>\n",
       "    </tr>\n",
       "    <tr>\n",
       "      <th>9</th>\n",
       "      <td>Ranked! The 100 best football players in the w...</td>\n",
       "      <td>https://www.fourfourtwo.com/features/ranked-th...</td>\n",
       "      <td>A list of the top 100 footballers in the world...</td>\n",
       "    </tr>\n",
       "  </tbody>\n",
       "</table>\n",
       "</div>"
      ],
      "text/plain": [
       "                                               title  \\\n",
       "0  25 Best Footballers in the World (2024) - Give...   \n",
       "1  RANKED! The 100 best players in the world righ...   \n",
       "2  Ranked! The 100 best football players in the w...   \n",
       "3     The best players in the world - ranked - 90min   \n",
       "4  The Top Soccer Players In The World Right Now,...   \n",
       "5  The 100+ Best Soccer Players In The World In 2...   \n",
       "6  Best football players in the world ranked 2024...   \n",
       "7             The Best FIFA Men's Player - Wikipedia   \n",
       "8  30 Greatest Football Players Of All Time (2024...   \n",
       "9  Ranked! The 100 best football players in the w...   \n",
       "\n",
       "                                                href  \\\n",
       "0  https://www.givemesport.com/best-football-play...   \n",
       "1  https://www.fourfourtwo.com/features/ranked-th...   \n",
       "2  https://www.fourfourtwo.com/features/ranked-th...   \n",
       "3  https://www.90min.com/posts/best-players-in-th...   \n",
       "4  https://www.ranker.com/list/best-current-socce...   \n",
       "5  https://www.ranker.com/list/best-soccer-player...   \n",
       "6  https://www.radiotimes.com/tv/sport/football/b...   \n",
       "7  https://en.wikipedia.org/wiki/The_Best_FIFA_Me...   \n",
       "8  https://www.givemesport.com/top-football-playe...   \n",
       "9  https://www.fourfourtwo.com/features/ranked-th...   \n",
       "\n",
       "                                                body  \n",
       "0  Football is an ever-changing meritocracy and, ...  \n",
       "1  The best players in the world right now: 100-8...  \n",
       "2  The 100 best football players in the world: 10...  \n",
       "3  Some would argue that Valverde is the best out...  \n",
       "4  The world's passion for soccer is unmatched, a...  \n",
       "5  A list of the top 100+ soccer players in the w...  \n",
       "6  A comprehensive list of the 10 best football p...  \n",
       "7  The Best FIFA Men's Player is an annual award ...  \n",
       "8  An elusive list awaits you with some of the gr...  \n",
       "9  A list of the top 100 footballers in the world...  "
      ]
     },
     "execution_count": 12,
     "metadata": {},
     "output_type": "execute_result"
    }
   ],
   "source": [
    "df = pd.DataFrame(results)\n",
    "df"
   ]
  },
  {
   "cell_type": "code",
   "execution_count": null,
   "id": "e4d408e1",
   "metadata": {},
   "outputs": [],
   "source": []
  }
 ],
 "metadata": {
  "kernelspec": {
   "display_name": "Python 3 (ipykernel)",
   "language": "python",
   "name": "python3"
  },
  "language_info": {
   "codemirror_mode": {
    "name": "ipython",
    "version": 3
   },
   "file_extension": ".py",
   "mimetype": "text/x-python",
   "name": "python",
   "nbconvert_exporter": "python",
   "pygments_lexer": "ipython3",
   "version": "3.10.4"
  }
 },
 "nbformat": 4,
 "nbformat_minor": 5
}
