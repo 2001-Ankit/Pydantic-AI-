{
 "cells": [
  {
   "cell_type": "code",
   "execution_count": 1,
   "id": "855fe025",
   "metadata": {},
   "outputs": [
    {
     "name": "stderr",
     "output_type": "stream",
     "text": [
      "WARNING: Ignoring invalid distribution -atplotlib (c:\\users\\ankit rai\\appdata\\local\\programs\\python\\python310\\lib\\site-packages)\n",
      "WARNING: Ignoring invalid distribution -atplotlib (c:\\users\\ankit rai\\appdata\\local\\programs\\python\\python310\\lib\\site-packages)\n",
      "WARNING: Ignoring invalid distribution -atplotlib (c:\\users\\ankit rai\\appdata\\local\\programs\\python\\python310\\lib\\site-packages)\n",
      "ERROR: pip's dependency resolver does not currently take into account all the packages that are installed. This behaviour is the source of the following dependency conflicts.\n",
      "llama-index-indices-managed-llama-cloud 0.3.0 requires llama-cloud>=0.0.11, which is not installed.\n",
      "llama-index-readers-llama-parse 0.3.0 requires llama-parse>=0.5.0, which is not installed.\n",
      "requests-html 0.10.0 requires fake-useragent, which is not installed.\n",
      "tensorflow-intel 2.17.0 requires protobuf!=4.21.0,!=4.21.1,!=4.21.2,!=4.21.3,!=4.21.4,!=4.21.5,<5.0.0dev,>=3.20.3, but you have protobuf 5.28.1 which is incompatible.\n",
      "WARNING: Ignoring invalid distribution -atplotlib (c:\\users\\ankit rai\\appdata\\local\\programs\\python\\python310\\lib\\site-packages)\n",
      "WARNING: Ignoring invalid distribution -atplotlib (c:\\users\\ankit rai\\appdata\\local\\programs\\python\\python310\\lib\\site-packages)\n",
      "WARNING: Ignoring invalid distribution -atplotlib (c:\\users\\ankit rai\\appdata\\local\\programs\\python\\python310\\lib\\site-packages)\n",
      "WARNING: Ignoring invalid distribution -atplotlib (c:\\users\\ankit rai\\appdata\\local\\programs\\python\\python310\\lib\\site-packages)\n",
      "WARNING: Ignoring invalid distribution -atplotlib (c:\\users\\ankit rai\\appdata\\local\\programs\\python\\python310\\lib\\site-packages)\n",
      "WARNING: Ignoring invalid distribution -atplotlib (c:\\users\\ankit rai\\appdata\\local\\programs\\python\\python310\\lib\\site-packages)\n"
     ]
    }
   ],
   "source": [
    "!pip -q install pydantic-ai\n",
    "!pip -q install duckduckgo-search\n",
    "!pip -q install tavily-python"
   ]
  },
  {
   "cell_type": "code",
   "execution_count": 5,
   "id": "8930ee7e",
   "metadata": {},
   "outputs": [
    {
     "name": "stdout",
     "output_type": "stream",
     "text": [
      "0.0.10\n"
     ]
    }
   ],
   "source": [
    "import pydantic_ai\n",
    "print(pydantic_ai.__version__)"
   ]
  },
  {
   "cell_type": "code",
   "execution_count": 6,
   "id": "8821cc1f",
   "metadata": {},
   "outputs": [
    {
     "name": "stderr",
     "output_type": "stream",
     "text": [
      "WARNING: Ignoring invalid distribution -atplotlib (c:\\users\\ankit rai\\appdata\\local\\programs\\python\\python310\\lib\\site-packages)\n",
      "WARNING: Ignoring invalid distribution -atplotlib (c:\\users\\ankit rai\\appdata\\local\\programs\\python\\python310\\lib\\site-packages)\n",
      "WARNING: Ignoring invalid distribution -atplotlib (c:\\users\\ankit rai\\appdata\\local\\programs\\python\\python310\\lib\\site-packages)\n",
      "WARNING: Ignoring invalid distribution -atplotlib (c:\\users\\ankit rai\\appdata\\local\\programs\\python\\python310\\lib\\site-packages)\n",
      "WARNING: Ignoring invalid distribution -atplotlib (c:\\users\\ankit rai\\appdata\\local\\programs\\python\\python310\\lib\\site-packages)\n",
      "WARNING: Ignoring invalid distribution -atplotlib (c:\\users\\ankit rai\\appdata\\local\\programs\\python\\python310\\lib\\site-packages)\n"
     ]
    }
   ],
   "source": [
    "!pip -q install nest-asyncio\n",
    "!pip -q install devtools"
   ]
  },
  {
   "cell_type": "code",
   "execution_count": 9,
   "id": "1963a7c9",
   "metadata": {},
   "outputs": [
    {
     "name": "stdout",
     "output_type": "stream",
     "text": [
      "[{'title': 'RANKED! The 100 best players in the world right now', 'href': 'https://www.fourfourtwo.com/features/ranked-the-100-best-players-in-the-world-right-now', 'body': 'The best players in the world right now: 100-81 The best players in the world right now: 100-81 The best players in the world right now: 80-61 The best players in the world right now: 60-41 The ...'}, {'title': 'The best players in the world - ranked - 90min', 'href': 'https://www.90min.com/posts/best-players-in-the-world', 'body': \"There's seemingly always one previously unknown Bundesliga commodity who decides to be the best player in the world for a bit. At the start of 2024/25, no one has been more productive in Europe's ...\"}, {'title': '25 Best Footballers in the World (2024) - GiveMeSport', 'href': 'https://www.givemesport.com/best-football-players-in-the-world/', 'body': \"Lionel Messi remains among the world's best players, but Cristiano Ronaldo drops out of the top 25 following Euro 2024. Football is an ever-changing meritocracy and, therefore, deciding the best ...\"}, {'title': 'The Top Soccer Players In The World Right Now, Ranked', 'href': 'https://www.ranker.com/list/best-current-soccer-players/ranker-soccer', 'body': \"So, whether you're a long-time supporter of these legends or you've got your eyes on some emerging stars, now's the time to weigh in. Cast your vote for the best soccer players in 2024 and let the world know who you think stands at the pinnacle of the sport. Your opinion can help highlight the players who are truly making a mark right now.\"}, {'title': \"The Best FIFA Men's Player | Nominees in focus\", 'href': 'https://www.fifa.com/en/the-best-fifa-football-awards/2024/articles/mens-player-nominees', 'body': \"Voting open as 11-player shortlist for illustrious prize revealed. Eleven stellar candidates have been shortlisted for The Best FIFA Men's Player 2024 Award - and fans can now vote for their ...\"}, {'title': 'Ranked! The 100 best football players in the world: 2023', 'href': 'https://www.fourfourtwo.com/features/ranked-the-100-best-football-players-in-the-world-2023', 'body': 'The 100 best football players in the world: 100-81 The 100 best football players in the world: 80-61 The 100 best football players in the world: 60-41 The 100 best football players in the world ...'}, {'title': 'Who is the best soccer player in the world? List of top footballers in ...', 'href': 'https://www.sportingnews.com/us/soccer/news/who-best-soccer-player-world-top-footballers-2022-all-time/r049kxveq70kd1yfxrz24fwd', 'body': 'Mbappe is thought to be the best young player in the game now, gracing the cover of the popular FIFA video game for the last two years. Still more could argue that the player with the most goals ...'}, {'title': \"Lionel Messi wins The Best FIFA Men's Player award\", 'href': 'https://www.fifa.com/en/articles/lionel-messi-wins-the-best-fifa-mens-player-award-mbappe-benzema', 'body': \"Messi produced a series of mesmeric performances during Argentina's triumphant World Cup campaign. The genius number 10 was Argentina's talisman in Qatar, scoring seven goals - including a ...\"}, {'title': 'Ranked! The 50 best players in the world, 2021 - FourFourTwo', 'href': 'https://www.fourfourtwo.com/features/50-best-players-in-the-world-2021-ranked', 'body': 'A list of the top footballers in the world as of December 2021, based on form, ability, history and impact. See who made the cut, from Messi and Ronaldo to Grealish and Kjaer, and why they deserve their spots.'}, {'title': \"Why the 'unstoppable' Kylian Mbappé now wears the crown as world's best ...\", 'href': 'https://www.cnn.com/2022/12/18/football/kylian-mbappe-best-player-qatar-2022-messi-spt-intl/index.html', 'body': '\"If he won the second World Cup, he\\'d probably be the best French player,\" Mavuba said. \"I love [Zinedine] Zidane but imagine, 23 years old, two World Cups, he\\'d be the best.\"'}]\n"
     ]
    }
   ],
   "source": [
    "from duckduckgo_search import DDGS, AsyncDDGS\n",
    "results = DDGS().text(\"Best football player in the world\",max_results=10)\n",
    "print(results)"
   ]
  },
  {
   "cell_type": "code",
   "execution_count": 3,
   "id": "73ddd593",
   "metadata": {},
   "outputs": [
    {
     "name": "stderr",
     "output_type": "stream",
     "text": [
      "WARNING: Ignoring invalid distribution -atplotlib (c:\\users\\ankit rai\\appdata\\local\\programs\\python\\python310\\lib\\site-packages)\n",
      "ERROR: Could not find a version that satisfies the requirement fireducks (from versions: none)\n",
      "ERROR: No matching distribution found for fireducks\n"
     ]
    }
   ],
   "source": [
    "!pip install fireducks"
   ]
  },
  {
   "cell_type": "code",
   "execution_count": 4,
   "id": "ea3c7fba",
   "metadata": {},
   "outputs": [
    {
     "name": "stderr",
     "output_type": "stream",
     "text": [
      "WARNING: Ignoring invalid distribution -atplotlib (c:\\users\\ankit rai\\appdata\\local\\programs\\python\\python310\\lib\\site-packages)\n",
      "ERROR: Could not find a version that satisfies the requirement fireducks (from versions: none)\n",
      "ERROR: No matching distribution found for fireducks\n"
     ]
    }
   ],
   "source": [
    "!pip install fireducks\n"
   ]
  },
  {
   "cell_type": "code",
   "execution_count": 6,
   "id": "c762b6f1",
   "metadata": {},
   "outputs": [],
   "source": [
    "import pandas as pd\n"
   ]
  },
  {
   "cell_type": "code",
   "execution_count": 10,
   "id": "8a7c1eb0",
   "metadata": {},
   "outputs": [
    {
     "data": {
      "text/html": [
       "<div>\n",
       "<style scoped>\n",
       "    .dataframe tbody tr th:only-of-type {\n",
       "        vertical-align: middle;\n",
       "    }\n",
       "\n",
       "    .dataframe tbody tr th {\n",
       "        vertical-align: top;\n",
       "    }\n",
       "\n",
       "    .dataframe thead th {\n",
       "        text-align: right;\n",
       "    }\n",
       "</style>\n",
       "<table border=\"1\" class=\"dataframe\">\n",
       "  <thead>\n",
       "    <tr style=\"text-align: right;\">\n",
       "      <th></th>\n",
       "      <th>title</th>\n",
       "      <th>href</th>\n",
       "      <th>body</th>\n",
       "    </tr>\n",
       "  </thead>\n",
       "  <tbody>\n",
       "    <tr>\n",
       "      <th>0</th>\n",
       "      <td>RANKED! The 100 best players in the world righ...</td>\n",
       "      <td>https://www.fourfourtwo.com/features/ranked-th...</td>\n",
       "      <td>The best players in the world right now: 100-8...</td>\n",
       "    </tr>\n",
       "    <tr>\n",
       "      <th>1</th>\n",
       "      <td>The best players in the world - ranked - 90min</td>\n",
       "      <td>https://www.90min.com/posts/best-players-in-th...</td>\n",
       "      <td>There's seemingly always one previously unknow...</td>\n",
       "    </tr>\n",
       "    <tr>\n",
       "      <th>2</th>\n",
       "      <td>25 Best Footballers in the World (2024) - Give...</td>\n",
       "      <td>https://www.givemesport.com/best-football-play...</td>\n",
       "      <td>Lionel Messi remains among the world's best pl...</td>\n",
       "    </tr>\n",
       "    <tr>\n",
       "      <th>3</th>\n",
       "      <td>The Top Soccer Players In The World Right Now,...</td>\n",
       "      <td>https://www.ranker.com/list/best-current-socce...</td>\n",
       "      <td>So, whether you're a long-time supporter of th...</td>\n",
       "    </tr>\n",
       "    <tr>\n",
       "      <th>4</th>\n",
       "      <td>The Best FIFA Men's Player | Nominees in focus</td>\n",
       "      <td>https://www.fifa.com/en/the-best-fifa-football...</td>\n",
       "      <td>Voting open as 11-player shortlist for illustr...</td>\n",
       "    </tr>\n",
       "    <tr>\n",
       "      <th>5</th>\n",
       "      <td>Ranked! The 100 best football players in the w...</td>\n",
       "      <td>https://www.fourfourtwo.com/features/ranked-th...</td>\n",
       "      <td>The 100 best football players in the world: 10...</td>\n",
       "    </tr>\n",
       "    <tr>\n",
       "      <th>6</th>\n",
       "      <td>Who is the best soccer player in the world? Li...</td>\n",
       "      <td>https://www.sportingnews.com/us/soccer/news/wh...</td>\n",
       "      <td>Mbappe is thought to be the best young player ...</td>\n",
       "    </tr>\n",
       "    <tr>\n",
       "      <th>7</th>\n",
       "      <td>Lionel Messi wins The Best FIFA Men's Player a...</td>\n",
       "      <td>https://www.fifa.com/en/articles/lionel-messi-...</td>\n",
       "      <td>Messi produced a series of mesmeric performanc...</td>\n",
       "    </tr>\n",
       "    <tr>\n",
       "      <th>8</th>\n",
       "      <td>Ranked! The 50 best players in the world, 2021...</td>\n",
       "      <td>https://www.fourfourtwo.com/features/50-best-p...</td>\n",
       "      <td>A list of the top footballers in the world as ...</td>\n",
       "    </tr>\n",
       "    <tr>\n",
       "      <th>9</th>\n",
       "      <td>Why the 'unstoppable' Kylian Mbappé now wears ...</td>\n",
       "      <td>https://www.cnn.com/2022/12/18/football/kylian...</td>\n",
       "      <td>\"If he won the second World Cup, he'd probably...</td>\n",
       "    </tr>\n",
       "  </tbody>\n",
       "</table>\n",
       "</div>"
      ],
      "text/plain": [
       "                                               title  \\\n",
       "0  RANKED! The 100 best players in the world righ...   \n",
       "1     The best players in the world - ranked - 90min   \n",
       "2  25 Best Footballers in the World (2024) - Give...   \n",
       "3  The Top Soccer Players In The World Right Now,...   \n",
       "4     The Best FIFA Men's Player | Nominees in focus   \n",
       "5  Ranked! The 100 best football players in the w...   \n",
       "6  Who is the best soccer player in the world? Li...   \n",
       "7  Lionel Messi wins The Best FIFA Men's Player a...   \n",
       "8  Ranked! The 50 best players in the world, 2021...   \n",
       "9  Why the 'unstoppable' Kylian Mbappé now wears ...   \n",
       "\n",
       "                                                href  \\\n",
       "0  https://www.fourfourtwo.com/features/ranked-th...   \n",
       "1  https://www.90min.com/posts/best-players-in-th...   \n",
       "2  https://www.givemesport.com/best-football-play...   \n",
       "3  https://www.ranker.com/list/best-current-socce...   \n",
       "4  https://www.fifa.com/en/the-best-fifa-football...   \n",
       "5  https://www.fourfourtwo.com/features/ranked-th...   \n",
       "6  https://www.sportingnews.com/us/soccer/news/wh...   \n",
       "7  https://www.fifa.com/en/articles/lionel-messi-...   \n",
       "8  https://www.fourfourtwo.com/features/50-best-p...   \n",
       "9  https://www.cnn.com/2022/12/18/football/kylian...   \n",
       "\n",
       "                                                body  \n",
       "0  The best players in the world right now: 100-8...  \n",
       "1  There's seemingly always one previously unknow...  \n",
       "2  Lionel Messi remains among the world's best pl...  \n",
       "3  So, whether you're a long-time supporter of th...  \n",
       "4  Voting open as 11-player shortlist for illustr...  \n",
       "5  The 100 best football players in the world: 10...  \n",
       "6  Mbappe is thought to be the best young player ...  \n",
       "7  Messi produced a series of mesmeric performanc...  \n",
       "8  A list of the top footballers in the world as ...  \n",
       "9  \"If he won the second World Cup, he'd probably...  "
      ]
     },
     "execution_count": 10,
     "metadata": {},
     "output_type": "execute_result"
    }
   ],
   "source": [
    "df = pd.DataFrame(results)\n",
    "df"
   ]
  },
  {
   "cell_type": "code",
   "execution_count": null,
   "id": "6d22200e",
   "metadata": {},
   "outputs": [],
   "source": []
  }
 ],
 "metadata": {
  "kernelspec": {
   "display_name": "Python 3 (ipykernel)",
   "language": "python",
   "name": "python3"
  },
  "language_info": {
   "codemirror_mode": {
    "name": "ipython",
    "version": 3
   },
   "file_extension": ".py",
   "mimetype": "text/x-python",
   "name": "python",
   "nbconvert_exporter": "python",
   "pygments_lexer": "ipython3",
   "version": "3.10.4"
  }
 },
 "nbformat": 4,
 "nbformat_minor": 5
}
